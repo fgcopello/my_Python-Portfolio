{
 "cells": [
  {
   "cell_type": "markdown",
   "id": "5e2326e5",
   "metadata": {},
   "source": [
    "# Proyecto 17 - Analizar una Base de Datos de Perros\n",
    "\n",
    "Hoy vamos a realizar un proyecto muy entretenido, que consiste en conseguir un dataset sobre razas de perros, que se encuentra alojada en el sitio [The Dog Api](https://thedogapi.com/).\n",
    "\n",
    "Tu misión consiste en lograr obtener un dataset que contiene información sobre razas de perro (\"breeds\"), y crear visualizaciones que permitan responder algunas preguntas sobre la **expectativa de vida**, y el **temperamento** más frecuente entre todas las **razas**.\n",
    "\n",
    "\n",
    "### Preguntas a responder\n",
    "1. ¿Cuál es la esperanza de vida (en años) más frecuente entre todas las razas de perro?\n",
    "2. ¿Cuál es el temperamento más frecuente entre todas las razas de perros?\n",
    "\n",
    "\n",
    "### Pasos sugeridos para llegar hasta la respuesta\n",
    "1. Descarga las **librerías** necesarias.\n",
    "2. Explora el sitio [https://thedogapi.com/](https://thedogapi.com/) para identificar dónde y cómo se describe el funcionamiento de su API. Identifica la **API específica** con información sobre **razas** (\"breeds\"). Una vez que lo hagas, implementa la API y guarda esos datos en un **DataFrame** de Pandas.\n",
    "*Nota: como todo sitio nuevo al que enfrentes, deberás resolver desafíos particulares. En este caso presta atención a las instrucciones que mencionan algo sobre cómo usar los mismos protocolos que se utilizan en la API de gatos de la misma organización*.\n",
    "3. Realiza un **análisis exploratorio** para conocer la estrucutra y calidad de tus datos.\n",
    "4. Implementa la **limpieza de datos** que consideres necesaria.\n",
    "5. Crea los **gráficos** que creas necesarios para poder visualizar con claridad la respuesta a las preguntas.\n",
    "\n"
   ]
  },
  {
   "cell_type": "markdown",
   "id": "41ea556c-3f32-4305-8890-cbaa3289bbd1",
   "metadata": {},
   "source": [
    "### 1. Descargar las librerías"
   ]
  },
  {
   "cell_type": "code",
   "execution_count": 1,
   "id": "89af9e5c-e315-436e-8e81-c7b92a19270c",
   "metadata": {},
   "outputs": [],
   "source": [
    "import pandas as pd\n",
    "import requests\n",
    "import matplotlib.pyplot as plt\n",
    "import seaborn as sns"
   ]
  },
  {
   "cell_type": "markdown",
   "id": "608c4b30-b08b-483b-9483-51094e7d2799",
   "metadata": {},
   "source": [
    "### 2. Implementar la API"
   ]
  },
  {
   "cell_type": "code",
   "execution_count": 2,
   "id": "1b643c2e-f53f-4e8b-8101-754eb88a2c7d",
   "metadata": {},
   "outputs": [],
   "source": [
    "# URL de la API de razas de perros\n",
    "url = 'https://api.thedogapi.com/v1/breeds'"
   ]
  },
  {
   "cell_type": "code",
   "execution_count": 3,
   "id": "e2b7d962-ede3-4c1d-b331-1d79b7ffabd2",
   "metadata": {},
   "outputs": [],
   "source": [
    "# Implementación de la API correspondiente\n",
    "respuesta = requests.get(url)\n",
    "data = respuesta.json()\n",
    "df = pd.DataFrame(data)"
   ]
  },
  {
   "cell_type": "markdown",
   "id": "905eb466-8957-4c4f-b77b-f45365c53dbf",
   "metadata": {},
   "source": [
    "### 3. Análisis Exploratorio de Datos"
   ]
  },
  {
   "cell_type": "code",
   "execution_count": 4,
   "id": "84b37419-daf3-48de-9c2f-8f4933e2bc17",
   "metadata": {},
   "outputs": [
    {
     "data": {
      "text/html": [
       "<div>\n",
       "<style scoped>\n",
       "    .dataframe tbody tr th:only-of-type {\n",
       "        vertical-align: middle;\n",
       "    }\n",
       "\n",
       "    .dataframe tbody tr th {\n",
       "        vertical-align: top;\n",
       "    }\n",
       "\n",
       "    .dataframe thead th {\n",
       "        text-align: right;\n",
       "    }\n",
       "</style>\n",
       "<table border=\"1\" class=\"dataframe\">\n",
       "  <thead>\n",
       "    <tr style=\"text-align: right;\">\n",
       "      <th></th>\n",
       "      <th>weight</th>\n",
       "      <th>height</th>\n",
       "      <th>id</th>\n",
       "      <th>name</th>\n",
       "      <th>bred_for</th>\n",
       "      <th>breed_group</th>\n",
       "      <th>life_span</th>\n",
       "      <th>temperament</th>\n",
       "      <th>origin</th>\n",
       "      <th>reference_image_id</th>\n",
       "      <th>country_code</th>\n",
       "      <th>description</th>\n",
       "      <th>history</th>\n",
       "    </tr>\n",
       "  </thead>\n",
       "  <tbody>\n",
       "    <tr>\n",
       "      <th>0</th>\n",
       "      <td>{'imperial': '6 - 13', 'metric': '3 - 6'}</td>\n",
       "      <td>{'imperial': '9 - 11.5', 'metric': '23 - 29'}</td>\n",
       "      <td>1</td>\n",
       "      <td>Affenpinscher</td>\n",
       "      <td>Small rodent hunting, lapdog</td>\n",
       "      <td>Toy</td>\n",
       "      <td>10 - 12 years</td>\n",
       "      <td>Stubborn, Curious, Playful, Adventurous, Activ...</td>\n",
       "      <td>Germany, France</td>\n",
       "      <td>BJa4kxc4X</td>\n",
       "      <td>NaN</td>\n",
       "      <td>NaN</td>\n",
       "      <td>NaN</td>\n",
       "    </tr>\n",
       "    <tr>\n",
       "      <th>1</th>\n",
       "      <td>{'imperial': '50 - 60', 'metric': '23 - 27'}</td>\n",
       "      <td>{'imperial': '25 - 27', 'metric': '64 - 69'}</td>\n",
       "      <td>2</td>\n",
       "      <td>Afghan Hound</td>\n",
       "      <td>Coursing and hunting</td>\n",
       "      <td>Hound</td>\n",
       "      <td>10 - 13 years</td>\n",
       "      <td>Aloof, Clownish, Dignified, Independent, Happy</td>\n",
       "      <td>Afghanistan, Iran, Pakistan</td>\n",
       "      <td>hMyT4CDXR</td>\n",
       "      <td>AG</td>\n",
       "      <td>NaN</td>\n",
       "      <td>NaN</td>\n",
       "    </tr>\n",
       "    <tr>\n",
       "      <th>2</th>\n",
       "      <td>{'imperial': '44 - 66', 'metric': '20 - 30'}</td>\n",
       "      <td>{'imperial': '30', 'metric': '76'}</td>\n",
       "      <td>3</td>\n",
       "      <td>African Hunting Dog</td>\n",
       "      <td>A wild pack animal</td>\n",
       "      <td>NaN</td>\n",
       "      <td>11 years</td>\n",
       "      <td>Wild, Hardworking, Dutiful</td>\n",
       "      <td></td>\n",
       "      <td>rkiByec47</td>\n",
       "      <td>NaN</td>\n",
       "      <td>NaN</td>\n",
       "      <td>NaN</td>\n",
       "    </tr>\n",
       "    <tr>\n",
       "      <th>3</th>\n",
       "      <td>{'imperial': '40 - 65', 'metric': '18 - 29'}</td>\n",
       "      <td>{'imperial': '21 - 23', 'metric': '53 - 58'}</td>\n",
       "      <td>4</td>\n",
       "      <td>Airedale Terrier</td>\n",
       "      <td>Badger, otter hunting</td>\n",
       "      <td>Terrier</td>\n",
       "      <td>10 - 13 years</td>\n",
       "      <td>Outgoing, Friendly, Alert, Confident, Intellig...</td>\n",
       "      <td>United Kingdom, England</td>\n",
       "      <td>1-7cgoZSh</td>\n",
       "      <td>NaN</td>\n",
       "      <td>NaN</td>\n",
       "      <td>NaN</td>\n",
       "    </tr>\n",
       "    <tr>\n",
       "      <th>4</th>\n",
       "      <td>{'imperial': '90 - 120', 'metric': '41 - 54'}</td>\n",
       "      <td>{'imperial': '28 - 34', 'metric': '71 - 86'}</td>\n",
       "      <td>5</td>\n",
       "      <td>Akbash Dog</td>\n",
       "      <td>Sheep guarding</td>\n",
       "      <td>Working</td>\n",
       "      <td>10 - 12 years</td>\n",
       "      <td>Loyal, Independent, Intelligent, Brave</td>\n",
       "      <td></td>\n",
       "      <td>26pHT3Qk7</td>\n",
       "      <td>NaN</td>\n",
       "      <td>NaN</td>\n",
       "      <td>NaN</td>\n",
       "    </tr>\n",
       "  </tbody>\n",
       "</table>\n",
       "</div>"
      ],
      "text/plain": [
       "                                          weight  \\\n",
       "0      {'imperial': '6 - 13', 'metric': '3 - 6'}   \n",
       "1   {'imperial': '50 - 60', 'metric': '23 - 27'}   \n",
       "2   {'imperial': '44 - 66', 'metric': '20 - 30'}   \n",
       "3   {'imperial': '40 - 65', 'metric': '18 - 29'}   \n",
       "4  {'imperial': '90 - 120', 'metric': '41 - 54'}   \n",
       "\n",
       "                                          height  id                 name  \\\n",
       "0  {'imperial': '9 - 11.5', 'metric': '23 - 29'}   1        Affenpinscher   \n",
       "1   {'imperial': '25 - 27', 'metric': '64 - 69'}   2         Afghan Hound   \n",
       "2             {'imperial': '30', 'metric': '76'}   3  African Hunting Dog   \n",
       "3   {'imperial': '21 - 23', 'metric': '53 - 58'}   4     Airedale Terrier   \n",
       "4   {'imperial': '28 - 34', 'metric': '71 - 86'}   5           Akbash Dog   \n",
       "\n",
       "                       bred_for breed_group      life_span  \\\n",
       "0  Small rodent hunting, lapdog         Toy  10 - 12 years   \n",
       "1          Coursing and hunting       Hound  10 - 13 years   \n",
       "2            A wild pack animal         NaN       11 years   \n",
       "3         Badger, otter hunting     Terrier  10 - 13 years   \n",
       "4                Sheep guarding     Working  10 - 12 years   \n",
       "\n",
       "                                         temperament  \\\n",
       "0  Stubborn, Curious, Playful, Adventurous, Activ...   \n",
       "1     Aloof, Clownish, Dignified, Independent, Happy   \n",
       "2                         Wild, Hardworking, Dutiful   \n",
       "3  Outgoing, Friendly, Alert, Confident, Intellig...   \n",
       "4             Loyal, Independent, Intelligent, Brave   \n",
       "\n",
       "                        origin reference_image_id country_code description  \\\n",
       "0              Germany, France          BJa4kxc4X          NaN         NaN   \n",
       "1  Afghanistan, Iran, Pakistan          hMyT4CDXR           AG         NaN   \n",
       "2                                       rkiByec47          NaN         NaN   \n",
       "3      United Kingdom, England          1-7cgoZSh          NaN         NaN   \n",
       "4                                       26pHT3Qk7          NaN         NaN   \n",
       "\n",
       "  history  \n",
       "0     NaN  \n",
       "1     NaN  \n",
       "2     NaN  \n",
       "3     NaN  \n",
       "4     NaN  "
      ]
     },
     "execution_count": 4,
     "metadata": {},
     "output_type": "execute_result"
    }
   ],
   "source": [
    "# Visualizamos el DataFrame generado\n",
    "df.head()"
   ]
  },
  {
   "cell_type": "code",
   "execution_count": 5,
   "id": "277a27a3-8cbe-4196-b9c7-942d2e0ba273",
   "metadata": {},
   "outputs": [
    {
     "name": "stdout",
     "output_type": "stream",
     "text": [
      "<class 'pandas.core.frame.DataFrame'>\n",
      "RangeIndex: 172 entries, 0 to 171\n",
      "Data columns (total 13 columns):\n",
      " #   Column              Non-Null Count  Dtype \n",
      "---  ------              --------------  ----- \n",
      " 0   weight              172 non-null    object\n",
      " 1   height              172 non-null    object\n",
      " 2   id                  172 non-null    int64 \n",
      " 3   name                172 non-null    object\n",
      " 4   bred_for            151 non-null    object\n",
      " 5   breed_group         156 non-null    object\n",
      " 6   life_span           172 non-null    object\n",
      " 7   temperament         168 non-null    object\n",
      " 8   origin              5 non-null      object\n",
      " 9   reference_image_id  172 non-null    object\n",
      " 10  country_code        12 non-null     object\n",
      " 11  description         1 non-null      object\n",
      " 12  history             2 non-null      object\n",
      "dtypes: int64(1), object(12)\n",
      "memory usage: 17.6+ KB\n"
     ]
    }
   ],
   "source": [
    "# Aplicamos info()\n",
    "df.info()"
   ]
  },
  {
   "cell_type": "code",
   "execution_count": 6,
   "id": "6da94ddb-222d-43c6-86eb-9dd076cfd67d",
   "metadata": {},
   "outputs": [
    {
     "data": {
      "text/html": [
       "<div>\n",
       "<style scoped>\n",
       "    .dataframe tbody tr th:only-of-type {\n",
       "        vertical-align: middle;\n",
       "    }\n",
       "\n",
       "    .dataframe tbody tr th {\n",
       "        vertical-align: top;\n",
       "    }\n",
       "\n",
       "    .dataframe thead th {\n",
       "        text-align: right;\n",
       "    }\n",
       "</style>\n",
       "<table border=\"1\" class=\"dataframe\">\n",
       "  <thead>\n",
       "    <tr style=\"text-align: right;\">\n",
       "      <th></th>\n",
       "      <th>id</th>\n",
       "    </tr>\n",
       "  </thead>\n",
       "  <tbody>\n",
       "    <tr>\n",
       "      <th>count</th>\n",
       "      <td>172.000000</td>\n",
       "    </tr>\n",
       "    <tr>\n",
       "      <th>mean</th>\n",
       "      <td>125.505814</td>\n",
       "    </tr>\n",
       "    <tr>\n",
       "      <th>std</th>\n",
       "      <td>81.121200</td>\n",
       "    </tr>\n",
       "    <tr>\n",
       "      <th>min</th>\n",
       "      <td>1.000000</td>\n",
       "    </tr>\n",
       "    <tr>\n",
       "      <th>25%</th>\n",
       "      <td>53.750000</td>\n",
       "    </tr>\n",
       "    <tr>\n",
       "      <th>50%</th>\n",
       "      <td>120.500000</td>\n",
       "    </tr>\n",
       "    <tr>\n",
       "      <th>75%</th>\n",
       "      <td>201.750000</td>\n",
       "    </tr>\n",
       "    <tr>\n",
       "      <th>max</th>\n",
       "      <td>264.000000</td>\n",
       "    </tr>\n",
       "  </tbody>\n",
       "</table>\n",
       "</div>"
      ],
      "text/plain": [
       "               id\n",
       "count  172.000000\n",
       "mean   125.505814\n",
       "std     81.121200\n",
       "min      1.000000\n",
       "25%     53.750000\n",
       "50%    120.500000\n",
       "75%    201.750000\n",
       "max    264.000000"
      ]
     },
     "execution_count": 6,
     "metadata": {},
     "output_type": "execute_result"
    }
   ],
   "source": [
    "# Aplicamos describe()\n",
    "df.describe()"
   ]
  },
  {
   "cell_type": "markdown",
   "id": "bb9b2d74-64d0-493b-b6fc-bfe7ab23c0da",
   "metadata": {},
   "source": [
    "### 4. Limpieza de Datos"
   ]
  },
  {
   "cell_type": "code",
   "execution_count": 7,
   "id": "a1c866d2-0242-4185-a6ce-1a2d4b7868f2",
   "metadata": {},
   "outputs": [
    {
     "name": "stdout",
     "output_type": "stream",
     "text": [
      "11 years\n",
      "<class 'str'>\n"
     ]
    }
   ],
   "source": [
    "# Indagamos respecto a los datos de la columna 'life_span', de interés\n",
    "print(df['life_span'][2])\n",
    "print(type(df['life_span'][2]))"
   ]
  },
  {
   "cell_type": "code",
   "execution_count": 8,
   "id": "51527fa5-34a2-4442-a94c-38c32714ce05",
   "metadata": {},
   "outputs": [],
   "source": [
    "# Realizamos un split de strings y adoptamos solamente el primer valor de esta columna\n",
    "# Para ello definimos una lista vacía para ir comletando con un loop for; luego reemplazamos la columna life_span con esta lista\n",
    "\n",
    "esperanza_vida = []\n",
    "\n",
    "for valor in df['life_span']:\n",
    "    numeros = int(valor.split()[0])\n",
    "    esperanza_vida.append(numeros)\n",
    "\n",
    "df['life_span'] = esperanza_vida"
   ]
  },
  {
   "cell_type": "code",
   "execution_count": 9,
   "id": "21c6c3e9-1e05-46c7-a9d5-fe95ee22e0bd",
   "metadata": {},
   "outputs": [
    {
     "name": "stdout",
     "output_type": "stream",
     "text": [
      "11\n",
      "<class 'numpy.int64'>\n"
     ]
    }
   ],
   "source": [
    "# Verificamos\n",
    "print(df['life_span'][2])\n",
    "print(type(df['life_span'][2]))"
   ]
  },
  {
   "cell_type": "code",
   "execution_count": 10,
   "id": "f2119ccb-59f2-4e71-89f1-b60ddbcf93d8",
   "metadata": {},
   "outputs": [
    {
     "data": {
      "text/html": [
       "<div>\n",
       "<style scoped>\n",
       "    .dataframe tbody tr th:only-of-type {\n",
       "        vertical-align: middle;\n",
       "    }\n",
       "\n",
       "    .dataframe tbody tr th {\n",
       "        vertical-align: top;\n",
       "    }\n",
       "\n",
       "    .dataframe thead th {\n",
       "        text-align: right;\n",
       "    }\n",
       "</style>\n",
       "<table border=\"1\" class=\"dataframe\">\n",
       "  <thead>\n",
       "    <tr style=\"text-align: right;\">\n",
       "      <th></th>\n",
       "      <th>life_span</th>\n",
       "      <th>temperament</th>\n",
       "    </tr>\n",
       "  </thead>\n",
       "  <tbody>\n",
       "    <tr>\n",
       "      <th>0</th>\n",
       "      <td>10</td>\n",
       "      <td>Stubborn, Curious, Playful, Adventurous, Activ...</td>\n",
       "    </tr>\n",
       "    <tr>\n",
       "      <th>1</th>\n",
       "      <td>10</td>\n",
       "      <td>Aloof, Clownish, Dignified, Independent, Happy</td>\n",
       "    </tr>\n",
       "    <tr>\n",
       "      <th>2</th>\n",
       "      <td>11</td>\n",
       "      <td>Wild, Hardworking, Dutiful</td>\n",
       "    </tr>\n",
       "    <tr>\n",
       "      <th>3</th>\n",
       "      <td>10</td>\n",
       "      <td>Outgoing, Friendly, Alert, Confident, Intellig...</td>\n",
       "    </tr>\n",
       "    <tr>\n",
       "      <th>4</th>\n",
       "      <td>10</td>\n",
       "      <td>Loyal, Independent, Intelligent, Brave</td>\n",
       "    </tr>\n",
       "    <tr>\n",
       "      <th>...</th>\n",
       "      <td>...</td>\n",
       "      <td>...</td>\n",
       "    </tr>\n",
       "    <tr>\n",
       "      <th>167</th>\n",
       "      <td>13</td>\n",
       "      <td>Fearless, Friendly, Bold, Keen, Alert, Quick</td>\n",
       "    </tr>\n",
       "    <tr>\n",
       "      <th>168</th>\n",
       "      <td>12</td>\n",
       "      <td>Loyal, Gentle, Vigilant, Trainable, Proud</td>\n",
       "    </tr>\n",
       "    <tr>\n",
       "      <th>169</th>\n",
       "      <td>12</td>\n",
       "      <td>NaN</td>\n",
       "    </tr>\n",
       "    <tr>\n",
       "      <th>170</th>\n",
       "      <td>12</td>\n",
       "      <td>Cheerful, Alert, Companionable, Intelligent, P...</td>\n",
       "    </tr>\n",
       "    <tr>\n",
       "      <th>171</th>\n",
       "      <td>12</td>\n",
       "      <td>Bold, Independent, Confident, Intelligent, Cou...</td>\n",
       "    </tr>\n",
       "  </tbody>\n",
       "</table>\n",
       "<p>172 rows × 2 columns</p>\n",
       "</div>"
      ],
      "text/plain": [
       "     life_span                                        temperament\n",
       "0           10  Stubborn, Curious, Playful, Adventurous, Activ...\n",
       "1           10     Aloof, Clownish, Dignified, Independent, Happy\n",
       "2           11                         Wild, Hardworking, Dutiful\n",
       "3           10  Outgoing, Friendly, Alert, Confident, Intellig...\n",
       "4           10             Loyal, Independent, Intelligent, Brave\n",
       "..         ...                                                ...\n",
       "167         13       Fearless, Friendly, Bold, Keen, Alert, Quick\n",
       "168         12          Loyal, Gentle, Vigilant, Trainable, Proud\n",
       "169         12                                                NaN\n",
       "170         12  Cheerful, Alert, Companionable, Intelligent, P...\n",
       "171         12  Bold, Independent, Confident, Intelligent, Cou...\n",
       "\n",
       "[172 rows x 2 columns]"
      ]
     },
     "execution_count": 10,
     "metadata": {},
     "output_type": "execute_result"
    }
   ],
   "source": [
    "# creamos un nuevo df con los datos de interés para todas las razas: 'life_span' y 'temperament'\n",
    "columnas_int = ['life_span', 'temperament']\n",
    "df = df[columnas_int]\n",
    "df"
   ]
  },
  {
   "cell_type": "markdown",
   "id": "413d1512-90fd-4e68-b38b-787c9b9c8d35",
   "metadata": {},
   "source": [
    "### 5. Visualización de Datos"
   ]
  },
  {
   "cell_type": "code",
   "execution_count": 11,
   "id": "a26a1355-17c3-4f11-9bae-5fa322aa40ec",
   "metadata": {},
   "outputs": [
    {
     "data": {
      "text/plain": [
       "Text(0, 0.5, 'Frecuencia')"
      ]
     },
     "execution_count": 11,
     "metadata": {},
     "output_type": "execute_result"
    },
    {
     "data": {
      "image/png": "[encoded data removed]",
      "text/plain": [
       "<Figure size 640x480 with 1 Axes>"
      ]
     },
     "metadata": {},
     "output_type": "display_data"
    }
   ],
   "source": [
    "# Representamos la frecuencia de la esperanza de vida con un histograma\n",
    "sns.histplot(data=df,\n",
    "             x=df['life_span'],\n",
    "             kde=True,\n",
    "             )\n",
    "plt.title('Esperanza de Vida de Perros de Raza')\n",
    "plt.xlabel('Esperanza de Vida (años)')\n",
    "plt.ylabel('Frecuencia')"
   ]
  },
  {
   "cell_type": "code",
   "execution_count": 12,
   "id": "6dfe1061-8128-4213-b592-ce1dc4a7efbf",
   "metadata": {},
   "outputs": [
    {
     "data": {
      "image/png": "[encoded data removed]",
      "text/plain": [
       "<Figure size 1000x600 with 1 Axes>"
      ]
     },
     "metadata": {},
     "output_type": "display_data"
    }
   ],
   "source": [
    "# Separar los valores de la columna 'temperament' en listas\n",
    "df['temperament'] = df['temperament'].str.split(\", \")\n",
    "\n",
    "# Expandir la lista en múltiples filas y eliminar NaN\n",
    "temperaments_expanded = df['temperament'].explode().dropna()\n",
    "\n",
    "# Contar la frecuencia de cada temperamento\n",
    "temperament_counts = temperaments_expanded.value_counts()\n",
    "\n",
    "# Seleccionar los primeros 20 temperamentos más frecuentes\n",
    "top_20_temperaments = temperament_counts.head(20)\n",
    "\n",
    "# Graficar los temperamentos más frecuentes en horizontal, con mayor frecuencia arriba\n",
    "plt.figure(figsize=(10, 6))\n",
    "top_20_temperaments.sort_values().plot(kind='barh', color='skyblue')\n",
    "plt.title('Frecuencia de Temperamentos (Top 20)', fontsize=16)\n",
    "plt.xlabel('Frecuencia', fontsize=12)\n",
    "plt.ylabel('Temperamento', fontsize=12)\n",
    "plt.tight_layout()\n",
    "plt.show()"
   ]
  },
  {
   "cell_type": "markdown",
   "id": "0961ccd8-6d3f-4970-bfd0-81c4c9d9e718",
   "metadata": {},
   "source": [
    "### Respuestas\n",
    "\n",
    "1. ¿Cuál es la esperanza de vida (en años) más frecuente entre todas las razas de perro?\n",
    "\n",
    "    **Respuesta:** 12 años\n",
    "\n",
    "2. ¿Cuál es el temperamento más frecuente entre todas las razas de perros?\n",
    "\n",
    "    **Respuesta:** Inteligencia"
   ]
  },
  {
   "cell_type": "code",
   "execution_count": null,
   "id": "04039cf3-64d1-42c2-95df-6eb070e6d037",
   "metadata": {},
   "outputs": [],
   "source": []
  }
 ],
 "metadata": {
  "kernelspec": {
   "display_name": "Python 3 (ipykernel)",
   "language": "python",
   "name": "python3"
  },
  "language_info": {
   "codemirror_mode": {
    "name": "ipython",
    "version": 3
   },
   "file_extension": ".py",
   "mimetype": "text/x-python",
   "name": "python",
   "nbconvert_exporter": "python",
   "pygments_lexer": "ipython3",
   "version": "3.12.7"
  }
 },
 "nbformat": 4,
 "nbformat_minor": 5
}
