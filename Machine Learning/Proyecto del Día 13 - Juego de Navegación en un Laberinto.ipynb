{
 "cells": [
  {
   "cell_type": "markdown",
   "id": "d7bf2362",
   "metadata": {
    "panel-layout": {
     "height": 467.26043701171875,
     "visible": true,
     "width": 100
    }
   },
   "source": [
    "## Proyecto del Día 13 - Juego de Navegación en un Laberinto\n",
    "\n",
    "Este proyecto tiene como objetivo desarrollar un entorno de laberinto simple y aplicar un algoritmo de **Aprendizaje por Refuerzo** para enseñar a una IA a navegar desde un punto inicial hasta un objetivo.\n",
    "\n",
    "Dada la naturaleza de este proyecto, considero que el algoritmo más adecuado para este tipo de probleas es **Q-Learning**, por su facilidad de implelentación y comprensión, su estabilidad y su relación entre la exploración y la explotación.\n",
    "\n",
    "Por esa razón te propongo resolverlo usando ese algoritmo, aunque dejo a tu criterio si quieres resolverlo con otro algoritmo de tu elección. Siempre estaré a favor de que investigues, y expandas las habilidades propuestas por tu cuenta.\n",
    "\n",
    "### Descripción del Laberinto:\n",
    "\n",
    "El laberinto se representa como una matriz de dos dimensiones, donde cada elemento puede ser:\n",
    "+ un camino libre (0)\n",
    "+ un obstáculo (1)\n",
    "+ el objetivo (G)\n",
    "\n",
    "La tarea es desarrollar un agente que pueda aprender a encontrar el camino desde un punto de inicio hasta el objetivo evitando obstáculos.\n",
    "\n",
    "\n",
    "### Creación del Laberinto\n",
    "\n",
    "Debido a que el desafío de hoy es bastante complejo, y que el objetivo final no se trata de que sepas desarrollar laberintos, sino sistemas para resolverlos, voy a facilitar la tarea entregando en este cuaderno el código para generar nuestros laberintos.\n",
    "\n",
    "Tu parte será la siguiente, que es diseñar y entrenar un modelo de Q-Learning para resolver el laberinto de la manera mpas eficiente, y luego mostrar una visualización sobre cómo lo ha hecho.\n",
    "\n",
    "Te deseo toda la suerte del mundo, y sobre todo, que te diviertas de a montones."
   ]
  },
  {
   "cell_type": "code",
   "execution_count": 1,
   "id": "3e7ecc11",
   "metadata": {},
   "outputs": [],
   "source": [
    "# Librerías necesarias para todo el ejercicio\n",
    "import numpy as np\n",
    "import matplotlib.pyplot as plt\n",
    "import random"
   ]
  },
  {
   "cell_type": "code",
   "execution_count": 2,
   "id": "6370346d",
   "metadata": {},
   "outputs": [],
   "source": [
    "# Función para crear el laberinto\n",
    "def crear_laberinto(tamanio, porcentaje_paredes=20, inicio=(0, 0), meta=None):\n",
    "    laberinto = np.zeros((tamanio, tamanio))\n",
    "    numero_paredes = int((tamanio * tamanio) * porcentaje_paredes / 100)\n",
    "    \n",
    "    # Ubicar paredes\n",
    "    for pared in range(numero_paredes):\n",
    "        x, y = random.randint(0, tamanio-1), random.randint(0, tamanio-1)\n",
    "        \n",
    "        # Cuidar que inicio y meta no sean paredes\n",
    "        if (x, y) != inicio and (meta is None or (x, y) != meta):\n",
    "            laberinto[x, y] = 1\n",
    "            \n",
    "    # Ubicar la meta\n",
    "    if meta:\n",
    "        laberinto[meta] = 9  # Representa la meta con 9\n",
    "    else:\n",
    "        # Ubicar la meta aleatoriamente si no está especificado\n",
    "        while True:\n",
    "            x, y = random.randint(0, tamanio-1), random.randint(0, tamanio-1)\n",
    "            if laberinto[x, y] == 0 and (x, y) != inicio:\n",
    "                laberinto[x, y] = 9\n",
    "                break\n",
    "    \n",
    "    return laberinto"
   ]
  },
  {
   "cell_type": "code",
   "execution_count": 3,
   "id": "6c648cc8",
   "metadata": {},
   "outputs": [],
   "source": [
    "# Función para visualizar el laberinto\n",
    "def ver_laberinto(laberinto):\n",
    "    plt.figure(figsize=(5, 5))\n",
    "    plt.imshow(laberinto, cmap='hot', interpolation='nearest')\n",
    "    plt.colorbar();"
   ]
  },
  {
   "cell_type": "code",
   "execution_count": 4,
   "id": "10e052cc",
   "metadata": {
    "panel-layout": {
     "height": 730,
     "visible": true,
     "width": 100
    }
   },
   "outputs": [
    {
     "data": {
      "image/png": "[encoded data removed]",
      "text/plain": [
       "<Figure size 500x500 with 2 Axes>"
      ]
     },
     "metadata": {},
     "output_type": "display_data"
    }
   ],
   "source": [
    "# Ejemplo de crear y mostrar laberintos\n",
    "laberinto = crear_laberinto(10, 20, inicio=(0, 0), meta=(9, 9))\n",
    "ver_laberinto(laberinto)"
   ]
  },
  {
   "cell_type": "markdown",
   "id": "7f986ed5",
   "metadata": {
    "panel-layout": {
     "height": 100.78125,
     "visible": true,
     "width": 100
    }
   },
   "source": [
    "### Ahora te toca a ti\n",
    "\n",
    "Lo que sigue es implementar todo el código para que un algoritmo de Q-Learning encuentre la manera más eficiente de llegar a la meta. Voy a dejarte los pasos que considero que son los necesarios para lograrlo\n",
    "\n",
    "##### 1. Parámetros para el algoritmo Q-Learning"
   ]
  },
  {
   "cell_type": "code",
   "execution_count": 5,
   "id": "234853df",
   "metadata": {},
   "outputs": [],
   "source": [
    "alpha = 0.1\n",
    "gamma = 0.99\n",
    "epsilon = 0.2\n",
    "episodios = 1000"
   ]
  },
  {
   "cell_type": "markdown",
   "id": "125709aa",
   "metadata": {
    "panel-layout": {
     "height": 40.94791793823242,
     "visible": true,
     "width": 100
    }
   },
   "source": [
    "##### 2. Función para elegir acciones equilibrando entre explotación y exploración"
   ]
  },
  {
   "cell_type": "code",
   "execution_count": 6,
   "id": "abbd3e3c",
   "metadata": {},
   "outputs": [],
   "source": [
    "def elegir_accion(Q, estado):\n",
    "    if random.uniform(0, 1) < epsilon:\n",
    "        #Asumiendo 4 acciones posibles (0, 3)\n",
    "        return random.randint(0, 3)   \n",
    "    else:\n",
    "        #'Estado' como índice lineal de Q \n",
    "        return np.argmax(Q[estado])"
   ]
  },
  {
   "cell_type": "markdown",
   "id": "003a6550",
   "metadata": {
    "panel-layout": {
     "height": 40.94791793823242,
     "visible": true,
     "width": 100
    }
   },
   "source": [
    "##### 3. Función para simular la acción en el laberinto"
   ]
  },
  {
   "cell_type": "code",
   "execution_count": 7,
   "id": "f719b2e4",
   "metadata": {},
   "outputs": [],
   "source": [
    "def ejecutar_accion(estado, accion, tamanio, laberinto):\n",
    "    \n",
    "    # Asignar una posición en el laberinto, en función del estado y el tamaño del laberinto  \n",
    "    fila, columna = divmod(estado, tamanio)\n",
    "    \n",
    "    # Definición: 0 = 'arriba', 1 = 'abajo', 2 = 'izquierda', 3 = 'derecha'\n",
    "    if accion == 0 and fila > 0:\n",
    "        fila -= 1                              #arriba\n",
    "    elif accion == 1 and fila < tamanio - 1 :\n",
    "        fila += 1                              #abajo\n",
    "    elif accion == 2 and columna > 0:\n",
    "        columna -= 1                           #izquierda\n",
    "    elif accion == 3 and columna < tamanio - 1:\n",
    "        columna += 1                           #derecha\n",
    "\n",
    "    # Definir el nuevo estado en que quedará el agente en el laberinto\n",
    "    estado_futuro = fila * tamanio + columna\n",
    "\n",
    "    # Establecer las recompensas y las penalizaciones tras ejecutar la accion\n",
    "    if laberinto[fila, columna] == 1:   # penalización por golpear un muro\n",
    "        recompensa = -100\n",
    "        estado_futuro = estado\n",
    "        terminado = False\n",
    "    elif laberinto[fila, columna] == 9: # recompensa por llegar a la meta\n",
    "        recompensa = 100\n",
    "        terminado = True\n",
    "    else:                               # penalización por movimiento\n",
    "        recompensa = -1\n",
    "        terminado = False\n",
    "\n",
    "    return estado_futuro, recompensa, terminado"
   ]
  },
  {
   "cell_type": "markdown",
   "id": "24c3dc48",
   "metadata": {
    "panel-layout": {
     "height": 40.94791793823242,
     "visible": true,
     "width": 100
    }
   },
   "source": [
    "##### 4. Función principal para ejecutar el algoritmo Q-Learning"
   ]
  },
  {
   "cell_type": "code",
   "execution_count": 11,
   "id": "5ee5259c",
   "metadata": {},
   "outputs": [],
   "source": [
    "def q_learning(tamanio, laberinto, inicio):\n",
    "    \n",
    "    # Definir Q:\n",
    "    Q = np.zeros((tamanio * tamanio, 4))\n",
    "    \n",
    "    # Establecer el loop para completar la matriz Q:\n",
    "    for episodio in range(episodios):\n",
    "        estado = inicio\n",
    "        terminado = False\n",
    "        \n",
    "        while not terminado:\n",
    "            \n",
    "            # Seleccionar la acción desde la función elegir_accion:\n",
    "            accion = elegir_accion(Q, estado)\n",
    "            \n",
    "            # Traer estado_futuro, recompensa y terminado desde ejecutar_accion: \n",
    "            estado_futuro, recompensa, terminado = ejecutar_accion(estado, accion, tamanio, laberinto)\n",
    "            \n",
    "            # Actualizar Q:\n",
    "            Q[estado, accion] += alpha * (recompensa + gamma * max(Q[estado_futuro]) - Q[estado, accion])\n",
    "            \n",
    "            # Actualizar estado\n",
    "            estado = estado_futuro\n",
    "    \n",
    "    return Q"
   ]
  },
  {
   "cell_type": "markdown",
   "id": "bac97336",
   "metadata": {
    "panel-layout": {
     "height": 40.94791793823242,
     "visible": true,
     "width": 100
    }
   },
   "source": [
    "##### 5. Función para convertir coordenadas a índice lineal"
   ]
  },
  {
   "cell_type": "code",
   "execution_count": 9,
   "id": "b5311d5e",
   "metadata": {},
   "outputs": [],
   "source": [
    "def index_posicion(coordenadas, tamanio):\n",
    "    return coordenadas[0] * tamanio + coordenadas[1]"
   ]
  },
  {
   "cell_type": "markdown",
   "id": "f60f0d38",
   "metadata": {
    "panel-layout": {
     "height": 40.94791793823242,
     "visible": true,
     "width": 100
    }
   },
   "source": [
    "##### 6. Iniciar el laberinto y configurar el algoritmo Q-Learning"
   ]
  },
  {
   "cell_type": "code",
   "execution_count": 14,
   "id": "2355b8a2",
   "metadata": {},
   "outputs": [],
   "source": [
    "# Definir los parámetros de la función crear_laberinto para su inicialización:\n",
    "tamanio = 10\n",
    "coordenadas_inicio = (0, 0)\n",
    "coordenadas_meta = (9, 9)\n",
    "\n",
    "# Crear el laberinto:\n",
    "laberinto = crear_laberinto(tamanio, porcentaje_paredes=20, inicio=coordenadas_inicio, meta=coordenadas_meta)\n",
    "\n",
    "# Definir 'inicio', que requeriremos para la función q_learning:\n",
    "inicio = index_posicion(coordenadas_inicio, tamanio)\n",
    "\n",
    "# Definir 'meta', que será requerida para la visualización luego:\n",
    "meta = index_posicion(coordenadas_meta, tamanio)\n",
    "\n",
    "# Entrenar el modelo y obtener la matriz Q:\n",
    "Q = q_learning(tamanio, laberinto, inicio)"
   ]
  },
  {
   "cell_type": "markdown",
   "id": "addf32a0",
   "metadata": {
    "panel-layout": {
     "height": 40.94791793823242,
     "visible": true,
     "width": 100
    }
   },
   "source": [
    "##### 7. Función para mostrar el aprendizaje del agente"
   ]
  },
  {
   "cell_type": "code",
   "execution_count": 15,
   "id": "e42f818e",
   "metadata": {},
   "outputs": [],
   "source": [
    "def mostrar_camino(inicio, tamanio, meta, laberinto, Q):\n",
    "\n",
    "    # Definir el punto de partida:\n",
    "    fila, columna = divmod(inicio, tamanio)\n",
    "    camino = [(fila, columna)]\n",
    "    estado = inicio\n",
    "\n",
    "    # Recorrer el camino de acuerdo a la matriz Q:\n",
    "    while estado != meta:\n",
    "        accion = np.argmax(Q[estado])\n",
    "        estado, _, _ = ejecutar_accion(estado, accion, tamanio, laberinto)\n",
    "        fila, columna = divmod(estado, tamanio)\n",
    "        camino.append((fila, columna))\n",
    "    \n",
    "    # Mostrar el camino aprendido sobre el laberinto\n",
    "    plt.figure(figsize=(5, 5))\n",
    "    plt.imshow(laberinto, cmap='hot', interpolation='nearest')\n",
    "    filas, columnas = zip(*camino)\n",
    "    plt.plot(columnas, filas, marker='o', color='c')\n",
    "    plt.colorbar();"
   ]
  },
  {
   "cell_type": "markdown",
   "id": "060cb8db",
   "metadata": {
    "panel-layout": {
     "height": 40.94791793823242,
     "visible": true,
     "width": 100
    }
   },
   "source": [
    "##### 8. Visualizar el resultado"
   ]
  },
  {
   "cell_type": "code",
   "execution_count": 16,
   "id": "a38f1228",
   "metadata": {},
   "outputs": [
    {
     "data": {
      "image/png": "[encoded data removed]",
      "text/plain": [
       "<Figure size 500x500 with 2 Axes>"
      ]
     },
     "metadata": {},
     "output_type": "display_data"
    }
   ],
   "source": [
    "mostrar_camino(inicio, tamanio, meta, laberinto, Q)"
   ]
  },
  {
   "cell_type": "code",
   "execution_count": null,
   "id": "1fa47fa1-0e0b-44db-95ac-308d68036b39",
   "metadata": {},
   "outputs": [],
   "source": []
  }
 ],
 "metadata": {
  "kernelspec": {
   "display_name": "Python 3 (ipykernel)",
   "language": "python",
   "name": "python3"
  },
  "language_info": {
   "codemirror_mode": {
    "name": "ipython",
    "version": 3
   },
   "file_extension": ".py",
   "mimetype": "text/x-python",
   "name": "python",
   "nbconvert_exporter": "python",
   "pygments_lexer": "ipython3",
   "version": "3.12.7"
  },
  "panel-cell-order": [
   "d7bf2362",
   "10e052cc",
   "7f986ed5",
   "125709aa",
   "003a6550",
   "24c3dc48",
   "bac97336",
   "f60f0d38",
   "addf32a0",
   "060cb8db"
  ]
 },
 "nbformat": 4,
 "nbformat_minor": 5
}
