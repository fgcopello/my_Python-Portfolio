{
 "cells": [
  {
   "cell_type": "markdown",
   "id": "5bc32480",
   "metadata": {},
   "source": [
    "# Proyecto 1: Cambio de Divisas\n",
    "\n",
    "### Consigna.\n",
    "Vas a crear un código que simule el funcionamiento de una **máquina de cambio de divisas**. Por el momento nuestra máquina sólo recibe **dólares** y devuelve **euros**.\n",
    "\n",
    "Tu máquina va a necesitar disponer de variables que le brinden la siguiente información:\n",
    "- Nombre del usuario\n",
    "- Fecha en que se realiza la operación\n",
    "- Momento del día (día, tarde o noche)\n",
    "- Cantidad de dólares a cambiar\n",
    "\n",
    "Con todo eso, la máquina va a imprimir en pantalla (en diferentes líneas por supuesto) un mensaje que incluya los siguientes requisitos:\n",
    "\n",
    "- Un saludo de bienvenida\n",
    "- Información de la cantidad de dolares que va a entregar el usuario\n",
    "- Información de la cantidad de euros que va a recibir\n",
    "- Detalle específico de cuántos billetes de €10, de €1, y el saldo en monedas que le serán entregados\n",
    "- Un saludo de despedida\n"
   ]
  },
  {
   "cell_type": "code",
   "execution_count": 1,
   "id": "1d831394",
   "metadata": {},
   "outputs": [],
   "source": [
    "nombre = 'Fran'\n",
    "fecha = '19-11-2024'\n",
    "saludo = 'Buenos días'"
   ]
  },
  {
   "cell_type": "code",
   "execution_count": 2,
   "id": "eb011cf0",
   "metadata": {},
   "outputs": [
    {
     "data": {
      "text/plain": [
       "'Buenos días Fran! Hoy es 19-11-2024. Bienvenido al Servicio de Divisas!'"
      ]
     },
     "execution_count": 2,
     "metadata": {},
     "output_type": "execute_result"
    }
   ],
   "source": [
    "bienvenida = saludo + \" \" + nombre + \"! Hoy es \" + fecha + \". Bienvenido al Servicio de Divisas!\"\n",
    "bienvenida"
   ]
  },
  {
   "cell_type": "code",
   "execution_count": 3,
   "id": "4a65fdf7",
   "metadata": {},
   "outputs": [],
   "source": [
    "dolares = 730.0"
   ]
  },
  {
   "cell_type": "code",
   "execution_count": 4,
   "id": "cada2ca6",
   "metadata": {},
   "outputs": [
    {
     "data": {
      "text/plain": [
       "642.4"
      ]
     },
     "execution_count": 4,
     "metadata": {},
     "output_type": "execute_result"
    }
   ],
   "source": [
    "euros_a_recibir = 0.88 * dolares\n",
    "euros_a_recibir"
   ]
  },
  {
   "cell_type": "code",
   "execution_count": 5,
   "id": "e464555d",
   "metadata": {},
   "outputs": [
    {
     "data": {
      "text/plain": [
       "64.0"
      ]
     },
     "execution_count": 5,
     "metadata": {},
     "output_type": "execute_result"
    }
   ],
   "source": [
    "billetes_10 = euros_a_recibir // 10\n",
    "billetes_10"
   ]
  },
  {
   "cell_type": "code",
   "execution_count": 6,
   "id": "0f6c8ae9",
   "metadata": {},
   "outputs": [
    {
     "data": {
      "text/plain": [
       "2.0"
      ]
     },
     "execution_count": 6,
     "metadata": {},
     "output_type": "execute_result"
    }
   ],
   "source": [
    "billetes_1 = (euros_a_recibir - (billetes_10 * 10)) // 1\n",
    "billetes_1"
   ]
  },
  {
   "cell_type": "code",
   "execution_count": 7,
   "id": "0f20c4dc",
   "metadata": {},
   "outputs": [
    {
     "data": {
      "text/plain": [
       "0.39999999999997726"
      ]
     },
     "execution_count": 7,
     "metadata": {},
     "output_type": "execute_result"
    }
   ],
   "source": [
    "monedas = euros_a_recibir % 1\n",
    "monedas"
   ]
  },
  {
   "cell_type": "code",
   "execution_count": 8,
   "id": "23786052",
   "metadata": {},
   "outputs": [
    {
     "name": "stdout",
     "output_type": "stream",
     "text": [
      "Buenos días Fran! Hoy es 19-11-2024. Bienvenido al Servicio de Divisas!\n",
      "\n",
      "Cantidad de dolares a cambiar:\n",
      "730.0\n",
      "\n",
      "Cantidad de euros a recibir:\n",
      "642.4\n",
      "\n",
      "Usted recibirá:\n",
      "Billetes de €10:\n",
      "64.0\n",
      "\n",
      "Billetes de €1\n",
      "2.0\n",
      "\n",
      "Monedas:\n",
      "0.39999999999997726\n",
      "\n",
      "Gracias por utilizar nuestro servicio Fran.\n"
     ]
    }
   ],
   "source": [
    "print(bienvenida)\n",
    "print(\"\")\n",
    "print (\"Cantidad de dolares a cambiar:\")\n",
    "print(dolares)\n",
    "print(\"\")\n",
    "print(\"Cantidad de euros a recibir:\")\n",
    "print(euros_a_recibir)\n",
    "print(\"\")\n",
    "print(\"Usted recibirá:\")\n",
    "print(\"Billetes de €10:\")\n",
    "print(billetes_10)\n",
    "print(\"\")\n",
    "print(\"Billetes de €1\")\n",
    "print(billetes_1)\n",
    "print(\"\")\n",
    "print(\"Monedas:\")\n",
    "print(monedas)\n",
    "print(\"\")\n",
    "print(\"Gracias por utilizar nuestro servicio \" + nombre + \".\")"
   ]
  }
 ],
 "metadata": {
  "kernelspec": {
   "display_name": "Python 3 (ipykernel)",
   "language": "python",
   "name": "python3"
  },
  "language_info": {
   "codemirror_mode": {
    "name": "ipython",
    "version": 3
   },
   "file_extension": ".py",
   "mimetype": "text/x-python",
   "name": "python",
   "nbconvert_exporter": "python",
   "pygments_lexer": "ipython3",
   "version": "3.12.7"
  }
 },
 "nbformat": 4,
 "nbformat_minor": 5
}
